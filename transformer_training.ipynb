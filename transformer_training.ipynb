{
 "cells": [
  {
   "cell_type": "markdown",
   "metadata": {},
   "source": [
    "# Prepare training container"
   ]
  },
  {
   "cell_type": "code",
   "execution_count": null,
   "metadata": {},
   "outputs": [],
   "source": [
    "# loging to Sagemaker ECR with Deep Learning Containers\n",
    "!aws ecr get-login-password --region us-east-2 | docker login --username AWS --password-stdin 763104351884.dkr.ecr.us-east-2.amazonaws.com\n",
    "# loging to your private ECR\n",
    "!aws ecr get-login-password --region us-east-2 | docker login --username AWS --password-stdin 553020858742.dkr.ecr.us-east-2.amazonaws.com"
   ]
  },
  {
   "cell_type": "code",
   "execution_count": null,
   "metadata": {},
   "outputs": [],
   "source": [
    "! pygmentize -l docker Dockerfile"
   ]
  },
  {
   "cell_type": "code",
   "execution_count": 22,
   "metadata": {},
   "outputs": [
    {
     "name": "stdout",
     "output_type": "stream",
     "text": [
      "WARNING! Using --password via the CLI is insecure. Use --password-stdin.\n",
      "WARNING! Your password will be stored unencrypted in /home/ec2-user/.docker/config.json.\n",
      "Configure a credential helper to remove this warning. See\n",
      "https://docs.docker.com/engine/reference/commandline/login/#credentials-store\n",
      "\n",
      "Login Succeeded\n",
      "Sending build context to Docker daemon    300kB\n",
      "Step 1/10 : FROM 763104351884.dkr.ecr.us-east-2.amazonaws.com/pytorch-training:1.5.0-gpu-py36-cu101-ubuntu16.04\n",
      " ---> 47cd15520b75\n",
      "Step 2/10 : LABEL author=\"vadimd@amazon.com\"\n",
      " ---> Using cache\n",
      " ---> 7e416477db2b\n",
      "Step 3/10 : WORKDIR /opt/ml/code\n",
      " ---> Using cache\n",
      " ---> 56ad1caf23ce\n",
      "Step 4/10 : RUN git clone https://github.com/huggingface/transformers\n",
      " ---> Using cache\n",
      " ---> 3724d048cf47\n",
      "Step 5/10 : RUN cd transformers/ &&     python3 -m pip install --no-cache-dir .\n",
      " ---> Using cache\n",
      " ---> fc1706b5b03f\n",
      "Step 6/10 : COPY container_training /opt/ml/code\n",
      " ---> e5104694ae4e\n",
      "Step 7/10 : ENV SAGEMAKER_SUBMIT_DIRECTORY /opt/ml/code\n",
      " ---> Running in 7cebb473e3d6\n",
      "Removing intermediate container 7cebb473e3d6\n",
      " ---> f603f12a941f\n",
      "Step 8/10 : ENV SAGEMAKER_PROGRAM train_transformer.py\n",
      " ---> Running in 62fa60010b04\n",
      "Removing intermediate container 62fa60010b04\n",
      " ---> af77064e5d15\n",
      "Step 9/10 : WORKDIR /\n",
      " ---> Running in fb9b59fb8852\n",
      "Removing intermediate container fb9b59fb8852\n",
      " ---> f05944764997\n",
      "Step 10/10 : ENTRYPOINT [\"bash\", \"-m\", \"start_with_right_hostname.sh\"]\n",
      " ---> Running in 2141365718cb\n",
      "Removing intermediate container 2141365718cb\n",
      " ---> 08527d7fc884\n",
      "Successfully built 08527d7fc884\n",
      "Successfully tagged hf-transformers-sm:latest\n",
      "The push refers to repository [553020858742.dkr.ecr.us-east-2.amazonaws.com/hf-transformers-sm]\n",
      "\n",
      "\u001b[1Bb37a4180: Preparing \n",
      "\u001b[1B2bc628b7: Preparing \n",
      "\u001b[1B88a66cf8: Preparing \n",
      "\u001b[1B3148ffb4: Preparing \n",
      "\u001b[1Bdc6eccf1: Preparing \n",
      "\u001b[1Be8cb8ead: Preparing \n",
      "\u001b[1B18b6f784: Preparing \n",
      "\u001b[1Bbe96fc82: Preparing \n",
      "\u001b[1B2b332e53: Preparing \n",
      "\u001b[1Bc6e1c93f: Preparing \n",
      "\u001b[1B8af0cced: Preparing \n",
      "\u001b[1Ba1e058e6: Preparing \n",
      "\u001b[1Ba7e2d141: Preparing \n",
      "\u001b[1B891256c7: Preparing \n",
      "\u001b[1B4275da12: Preparing \n",
      "\u001b[1B8601ef26: Preparing \n",
      "\u001b[1B03245374: Preparing \n",
      "\u001b[1Be3aaa392: Preparing \n",
      "\u001b[1B09ca2db2: Preparing \n",
      "\u001b[1B3589d5b4: Preparing \n",
      "\u001b[1B3141886c: Preparing \n",
      "\u001b[1Bab783b62: Preparing \n",
      "\u001b[1B20da503d: Preparing \n",
      "\u001b[1Bdadd4466: Preparing \n",
      "\u001b[1B74e50f52: Preparing \n",
      "\u001b[1B9e8d85dd: Preparing \n",
      "\u001b[1B74ebe255: Preparing \n",
      "\u001b[1B9683cb41: Preparing \n",
      "\u001b[1B42719515: Preparing \n",
      "\u001b[1B103e78c9: Preparing \n",
      "\u001b[1Be637fbff: Preparing \n",
      "\u001b[32B37a4180: Pushed lready exists 6kB\u001b[27A\u001b[2K\u001b[20A\u001b[2K\u001b[14A\u001b[2K\u001b[9A\u001b[2K\u001b[2A\u001b[2K\u001b[32A\u001b[2Klatest: digest: sha256:83f4e0a2fc09c0b791fb932dec3ffff7417f591516868e6d19b0ac96fae73613 size: 7046\n"
     ]
    }
   ],
   "source": [
    "! ./build_and_push.sh hf-transformers-sm latest Dockerfile"
   ]
  },
  {
   "cell_type": "markdown",
   "metadata": {},
   "source": [
    "# Training Language Model"
   ]
  },
  {
   "cell_type": "code",
   "execution_count": 15,
   "metadata": {},
   "outputs": [],
   "source": [
    "# Define IAM role\n",
    "import boto3\n",
    "import re\n",
    "\n",
    "import os\n",
    "import numpy as np\n",
    "import pandas as pd\n",
    "from sagemaker import get_execution_role\n",
    "\n",
    "role = get_execution_role()"
   ]
  },
  {
   "cell_type": "code",
   "execution_count": 20,
   "metadata": {},
   "outputs": [],
   "source": [
    "import sagemaker\n",
    "from time import gmtime, strftime\n",
    "\n",
    "# sess = sagemaker.LocalSession() # can use LocalSession() to run container locally\n",
    "sess = sagemaker.Session()\n",
    "\n",
    "bucket = sess.default_bucket()\n",
    "region = \"us-east-2\"\n",
    "account = sess.boto_session.client('sts').get_caller_identity()['Account']\n",
    "prefix_input = 'transformer-input'\n",
    "prefix_output = 'transformer-ouput'"
   ]
  },
  {
   "cell_type": "code",
   "execution_count": 17,
   "metadata": {},
   "outputs": [],
   "source": [
    "container = \"hf-transformers-sm\" # your container name\n",
    "tag = \"latest\"\n",
    "image = '{}.dkr.ecr.{}.amazonaws.com/{}:{}'.format(account, region, container, tag)"
   ]
  },
  {
   "cell_type": "code",
   "execution_count": 5,
   "metadata": {},
   "outputs": [],
   "source": [
    "# placeholder\n",
    "lng_model_metrics=[]\n"
   ]
  },
  {
   "cell_type": "code",
   "execution_count": null,
   "metadata": {},
   "outputs": [],
   "source": [
    "lng_model_hp = {\n",
    "    \n",
    "    \"nlp-problem\":\"language-modeling\",\n",
    "    \"dataset\" : \"wiki\",\n",
    "    \"do_train\" : \"true\", # whether to train your model\n",
    "    \"do_eval\" : \"true\",  # whether to run evaluation\n",
    "#     \"fp16\" : \"true\",     # It's unclear why, but mixed precision with gpt2 hangs. Thought, it should be working according to: https://github.com/huggingface/transformers/pull/495\n",
    "\n",
    "    #### Algo hyperparameters\n",
    "    \"model_type\" : \"gpt2\",\n",
    "    \"model_name_or_path\" : \"gpt2\",\n",
    "    \"per_gpu_train_batch_size\" : \"2\",\n",
    "    \"per_gpu_eval_batch_size\" : \"2\",\n",
    "    \"gradient_accumulation_steps\" : \"2\",\n",
    "}"
   ]
  },
  {
   "cell_type": "code",
   "execution_count": null,
   "metadata": {},
   "outputs": [],
   "source": [
    "lng_est = sagemaker.estimator.Estimator(image,\n",
    "                                   role=role,\n",
    "                                   train_instance_count=2, \n",
    "                                   train_instance_type='ml.p3.2xlarge',\n",
    "#                                    train_instance_type=\"local_gpu\", # use local_gpu for quick troubleshooting\n",
    "#                                    train_volume_size=100,\n",
    "                                   output_path=\"s3://{}/{}\".format(sess.default_bucket(), prefix_output),\n",
    "                                   metric_definitions = lng_model_metrics,\n",
    "                                   hyperparameters = lng_model_hp, \n",
    "                                   sagemaker_session=sess)\n",
    "\n",
    "lng_est.fit({\"train\":\"s3://vadimd-nlp-datasets/wikitext-2-raw/wiki.train.raw\", \n",
    "             \"test\":\"s3://vadimd-nlp-datasets/wikitext-2-raw/wiki.test.raw\"},\n",
    "             job_name = \"hf-transformers-batch2-nofp16-v1\",\n",
    "             wait=False\n",
    "           ) "
   ]
  },
  {
   "cell_type": "markdown",
   "metadata": {},
   "source": [
    "# Train for GLUE benchmarks"
   ]
  },
  {
   "cell_type": "code",
   "execution_count": null,
   "metadata": {},
   "outputs": [],
   "source": [
    "# Download script for GLUE data download\n",
    "!wget https://gist.githubusercontent.com/W4ngatang/60c2bdb54d156a41194446737ce03e2e/raw/17b8dd0d724281ed7c3b2aeeda662b92809aadd5/download_glue_data.py\n"
   ]
  },
  {
   "cell_type": "code",
   "execution_count": null,
   "metadata": {},
   "outputs": [],
   "source": [
    "! python download_glue_data.py"
   ]
  },
  {
   "cell_type": "code",
   "execution_count": null,
   "metadata": {},
   "outputs": [],
   "source": [
    "! ./upload_data_to_s3.sh vadimd-nlp-datasets glue glue_data"
   ]
  },
  {
   "cell_type": "code",
   "execution_count": 13,
   "metadata": {},
   "outputs": [],
   "source": [
    "text_cls_hp = {\n",
    "    \"nlp-problem\" : \"text-classification\",\n",
    "    \"do_train\" : \"true\", # whether to train your model\n",
    "    \"do_eval\" : \"true\",  # whether to run evaluation\n",
    "    \n",
    "    #### Algo hyperparameters\n",
    "    \"task_name\" : \"MRPC\", \n",
    "    \"model_type\" : \"bert\",\n",
    "    \"model_name_or_path\" : \"bert-base-cased\", # provide only model name\n",
    "    \"max_seq_length\" : 128,\n",
    "    \"per_gpu_train_batch_size\" : 32,\n",
    "    \"learning_rate\" : 2e-5,\n",
    "    \"num_train_epochs\" : 3.0\n",
    "}"
   ]
  },
  {
   "cell_type": "code",
   "execution_count": 18,
   "metadata": {},
   "outputs": [],
   "source": [
    "# placeholder\n",
    "text_cls_metrics=[]"
   ]
  },
  {
   "cell_type": "code",
   "execution_count": 23,
   "metadata": {},
   "outputs": [],
   "source": [
    "cls_est = sagemaker.estimator.Estimator(image,\n",
    "                                   role=role,\n",
    "                                   train_instance_count=2, \n",
    "                                   train_instance_type='ml.p3.2xlarge',\n",
    "#                                   train_instance_type=\"local_gpu\", # use local_gpu for quick troubleshooting\n",
    "#                                   train_volume_size=100,\n",
    "                                   output_path=\"s3://{}/{}\".format(sess.default_bucket(), prefix_output),\n",
    "                                   metric_definitions = text_cls_metrics,\n",
    "                                   hyperparameters = text_cls_hp, \n",
    "                                   sagemaker_session=sess)\n",
    "\n",
    "cls_est.fit({\"train\":\"s3://vadimd-nlp-datasets/glue/MRPC\"},\n",
    "            job_name = \"hf-transformers-glue-v4\",\n",
    "            wait=False) "
   ]
  },
  {
   "cell_type": "code",
   "execution_count": null,
   "metadata": {},
   "outputs": [],
   "source": []
  }
 ],
 "metadata": {
  "kernelspec": {
   "display_name": "conda_pytorch_p36",
   "language": "python",
   "name": "conda_pytorch_p36"
  },
  "language_info": {
   "codemirror_mode": {
    "name": "ipython",
    "version": 3
   },
   "file_extension": ".py",
   "mimetype": "text/x-python",
   "name": "python",
   "nbconvert_exporter": "python",
   "pygments_lexer": "ipython3",
   "version": "3.6.10"
  }
 },
 "nbformat": 4,
 "nbformat_minor": 4
}
