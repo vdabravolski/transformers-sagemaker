{
 "cells": [
  {
   "cell_type": "markdown",
   "metadata": {},
   "source": [
    "# Prepare training container"
   ]
  },
  {
   "cell_type": "code",
   "execution_count": null,
   "metadata": {},
   "outputs": [],
   "source": [
    "# login to Sagemaker ECR with Deep Learning Containers\n",
    "!aws ecr get-login-password --region us-east-2 | docker login --username AWS --password-stdin 763104351884.dkr.ecr.us-east-2.amazonaws.com\n",
    "# login to your private ECR\n",
    "!aws ecr get-login-password --region us-east-2 | docker login --username AWS --password-stdin 553020858742.dkr.ecr.us-east-2.amazonaws.com"
   ]
  },
  {
   "cell_type": "code",
   "execution_count": null,
   "metadata": {},
   "outputs": [],
   "source": [
    "! pygmentize -l docker Dockerfile"
   ]
  },
  {
   "cell_type": "code",
   "execution_count": null,
   "metadata": {},
   "outputs": [],
   "source": [
    "! ./build_and_push.sh hf-transformers-sm latest Dockerfile"
   ]
  },
  {
   "cell_type": "markdown",
   "metadata": {},
   "source": [
    "# Training Language Model"
   ]
  },
  {
   "cell_type": "code",
   "execution_count": null,
   "metadata": {},
   "outputs": [],
   "source": [
    "# Define IAM role\n",
    "import boto3\n",
    "import re\n",
    "\n",
    "import os\n",
    "import numpy as np\n",
    "import pandas as pd\n",
    "from sagemaker import get_execution_role\n",
    "\n",
    "role = get_execution_role()"
   ]
  },
  {
   "cell_type": "code",
   "execution_count": 55,
   "metadata": {},
   "outputs": [],
   "source": [
    "import sagemaker\n",
    "from time import gmtime, strftime\n",
    "\n",
    "sess = sagemaker.Session() # can use LocalSession() to run container locally\n",
    "\n",
    "bucket = sess.default_bucket()\n",
    "region = \"us-east-2\"\n",
    "account = sess.boto_session.client('sts').get_caller_identity()['Account']\n",
    "prefix_input = 'transformer-input'\n",
    "prefix_output = 'transformer-ouput'"
   ]
  },
  {
   "cell_type": "code",
   "execution_count": 51,
   "metadata": {},
   "outputs": [],
   "source": [
    "container = \"hf-transformers-sm\" # your container name\n",
    "tag = \"latest\"\n",
    "image = '{}.dkr.ecr.{}.amazonaws.com/{}:{}'.format(account, region, container, tag)"
   ]
  },
  {
   "cell_type": "code",
   "execution_count": 52,
   "metadata": {},
   "outputs": [],
   "source": [
    "# placeholder\n",
    "lng_model_metrics=[]"
   ]
  },
  {
   "cell_type": "code",
   "execution_count": 57,
   "metadata": {},
   "outputs": [],
   "source": [
    "lng_model_hp = {\n",
    "    \n",
    "    \"nlp-problem\":\"language-modeling\",\n",
    "    \"dataset\" : \"wiki\",\n",
    "    \"do_train\" : \"true\", # whether to train your model\n",
    "    \"do_eval\" : \"true\",  # whether to run evaluation\n",
    "    \"fp16\" : \"true\",     # It's unclear why, but mixed precision with gpt2 hangs. Thought, it should be working according to: https://github.com/huggingface/transformers/pull/495\n",
    "\n",
    "    #### Algo hyperparameters\n",
    "    \"model_type\" : \"gpt2\",\n",
    "    \"model_name_or_path\" : \"gpt2\",\n",
    "    \"per_gpu_train_batch_size\" : \"2\",\n",
    "    \"per_gpu_eval_batch_size\" : \"2\",\n",
    "    \"gradient_accumulation_steps\" : \"2\",\n",
    "}"
   ]
  },
  {
   "cell_type": "code",
   "execution_count": 59,
   "metadata": {},
   "outputs": [],
   "source": [
    "lng_est = sagemaker.estimator.Estimator(image,\n",
    "                                   role=role,\n",
    "                                   train_instance_count=1, \n",
    "                                   train_instance_type='ml.p3.16xlarge',\n",
    "#                                    train_instance_type=\"local_gpu\", # use local_gpu for quick troubleshooting\n",
    "                                   output_path=\"s3://{}/{}\".format(sess.default_bucket(), prefix_output),\n",
    "                                   metric_definitions = lng_model_metrics,\n",
    "                                   hyperparameters = lng_model_hp, \n",
    "                                   sagemaker_session=sess)\n",
    "\n",
    "lng_est.fit({\"train\":\"s3://vadimd-nlp-datasets/wikitext-2-raw/wiki.train.raw\", \n",
    "             \"test\":\"s3://vadimd-nlp-datasets/wikitext-2-raw/wiki.test.raw\"},\n",
    "             job_name = \"hf-transformers-batch2-fp16\",\n",
    "             wait=False\n",
    "           ) "
   ]
  },
  {
   "cell_type": "markdown",
   "metadata": {},
   "source": [
    "# Train for GLUE benchmarks"
   ]
  },
  {
   "cell_type": "code",
   "execution_count": null,
   "metadata": {},
   "outputs": [],
   "source": [
    "# Download script for GLUE data download\n",
    "!wget https://gist.githubusercontent.com/W4ngatang/60c2bdb54d156a41194446737ce03e2e/raw/17b8dd0d724281ed7c3b2aeeda662b92809aadd5/download_glue_data.py\n"
   ]
  },
  {
   "cell_type": "code",
   "execution_count": null,
   "metadata": {},
   "outputs": [],
   "source": [
    "! python download_glue_data.py"
   ]
  },
  {
   "cell_type": "code",
   "execution_count": null,
   "metadata": {},
   "outputs": [],
   "source": [
    "! ./upload_data_to_s3.sh vadimd-nlp-datasets glue glue_data"
   ]
  },
  {
   "cell_type": "code",
   "execution_count": null,
   "metadata": {},
   "outputs": [],
   "source": [
    "text_cls_hp = {\n",
    "    \"nlp-problem\" : \"text-classification\",\n",
    "    \"do_train\" : \"true\", # whether to train your model\n",
    "    \"do_eval\" : \"true\",  # whether to run evaluation\n",
    "    \n",
    "    #### Algo hyperparameters\n",
    "    \"task_name\" : \"MRPC\", \n",
    "    \"model_type\" : \"bert\",\n",
    "    \"model_name_or_path\" : \"bert-base-cased\", # provide only model name\n",
    "    \"max_seq_length\" : 128,\n",
    "    \"per_gpu_train_batch_size\" : 32,\n",
    "    \"learning_rate\" : 2e-5,\n",
    "    \"num_train_epochs\" : 3.0\n",
    "}"
   ]
  },
  {
   "cell_type": "code",
   "execution_count": null,
   "metadata": {},
   "outputs": [],
   "source": [
    "# placeholder\n",
    "text_cls_metrics=[]"
   ]
  },
  {
   "cell_type": "code",
   "execution_count": null,
   "metadata": {},
   "outputs": [],
   "source": [
    "cls_est = sagemaker.estimator.Estimator(image,\n",
    "                                   role=role,\n",
    "                                   train_instance_count=1, \n",
    "#                                    train_instance_type='ml.p3.16xlarge',\n",
    "                                  train_instance_type=\"local_gpu\", # use local_gpu for quick troubleshooting\n",
    "#                                   train_volume_size=100,\n",
    "                                   output_path=\"s3://{}/{}\".format(sess.default_bucket(), prefix_output),\n",
    "                                   metric_definitions = text_cls_metrics,\n",
    "                                   hyperparameters = text_cls_hp, \n",
    "                                   sagemaker_session=sess\n",
    "                                       )\n",
    "\n",
    "cls_est.fit({\"train\":\"s3://vadimd-nlp-datasets/glue/MRPC\"},\n",
    "            job_name = \"hf-transformers-glue-v5\",\n",
    "            wait=False) "
   ]
  }
 ],
 "metadata": {
  "kernelspec": {
   "display_name": "conda_pytorch_p36",
   "language": "python",
   "name": "conda_pytorch_p36"
  },
  "language_info": {
   "codemirror_mode": {
    "name": "ipython",
    "version": 3
   },
   "file_extension": ".py",
   "mimetype": "text/x-python",
   "name": "python",
   "nbconvert_exporter": "python",
   "pygments_lexer": "ipython3",
   "version": "3.6.10"
  }
 },
 "nbformat": 4,
 "nbformat_minor": 4
}
