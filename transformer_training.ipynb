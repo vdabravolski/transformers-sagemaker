{
 "cells": [
  {
   "cell_type": "markdown",
   "metadata": {},
   "source": [
    "# Prepare training container"
   ]
  },
  {
   "cell_type": "code",
   "execution_count": null,
   "metadata": {},
   "outputs": [],
   "source": [
    "# loging to Sagemaker ECR with Deep Learning Containers\n",
    "!aws ecr get-login-password --region us-east-2 | docker login --username AWS --password-stdin 763104351884.dkr.ecr.us-east-2.amazonaws.com\n",
    "# loging to your private ECR\n",
    "!aws ecr get-login-password --region us-east-2 | docker login --username AWS --password-stdin 553020858742.dkr.ecr.us-east-2.amazonaws.com"
   ]
  },
  {
   "cell_type": "code",
   "execution_count": null,
   "metadata": {},
   "outputs": [],
   "source": [
    "! pygmentize -l docker Dockerfile"
   ]
  },
  {
   "cell_type": "code",
   "execution_count": 22,
   "metadata": {},
   "outputs": [
    {
     "name": "stdout",
     "output_type": "stream",
     "text": [
      "WARNING! Using --password via the CLI is insecure. Use --password-stdin.\n",
      "WARNING! Your password will be stored unencrypted in /home/ec2-user/.docker/config.json.\n",
      "Configure a credential helper to remove this warning. See\n",
      "https://docs.docker.com/engine/reference/commandline/login/#credentials-store\n",
      "\n",
      "Login Succeeded\n",
      "Sending build context to Docker daemon  130.6kB\n",
      "Step 1/10 : FROM 763104351884.dkr.ecr.us-east-2.amazonaws.com/pytorch-training:1.5.0-gpu-py36-cu101-ubuntu16.04\n",
      " ---> 47cd15520b75\n",
      "Step 2/10 : LABEL author=\"vadimd@amazon.com\"\n",
      " ---> Using cache\n",
      " ---> 08c09613bc5b\n",
      "Step 3/10 : WORKDIR /opt/ml/code\n",
      " ---> Using cache\n",
      " ---> 20c4e4c866b7\n",
      "Step 4/10 : RUN git clone https://github.com/huggingface/transformers\n",
      " ---> Using cache\n",
      " ---> b553ccffcb8d\n",
      "Step 5/10 : RUN cd transformers/ &&     python3 -m pip install --no-cache-dir .\n",
      " ---> Using cache\n",
      " ---> 8ed5bc216ab3\n",
      "Step 6/10 : COPY container_training /opt/ml/code\n",
      " ---> dd2103473b54\n",
      "Step 7/10 : ENV SAGEMAKER_SUBMIT_DIRECTORY /opt/ml/code\n",
      " ---> Running in b59dc0184504\n",
      "Removing intermediate container b59dc0184504\n",
      " ---> 5782444dd643\n",
      "Step 8/10 : ENV SAGEMAKER_PROGRAM train_transformer.py\n",
      " ---> Running in eecd6ea6cb76\n",
      "Removing intermediate container eecd6ea6cb76\n",
      " ---> 513fbd4be33d\n",
      "Step 9/10 : WORKDIR /\n",
      " ---> Running in 5e3850d346ea\n",
      "Removing intermediate container 5e3850d346ea\n",
      " ---> dc5fa21cdade\n",
      "Step 10/10 : ENTRYPOINT [\"bash\", \"-m\", \"start_with_right_hostname.sh\"]\n",
      " ---> Running in 0390272efb31\n",
      "Removing intermediate container 0390272efb31\n",
      " ---> db3d808d9d66\n",
      "Successfully built db3d808d9d66\n",
      "Successfully tagged hf-transformers-sm:latest\n",
      "The push refers to repository [553020858742.dkr.ecr.us-east-2.amazonaws.com/hf-transformers-sm]\n",
      "\n",
      "\u001b[1B70d12e8d: Preparing \n",
      "\u001b[1Bf5235c43: Preparing \n",
      "\u001b[1Bdf5ee090: Preparing \n",
      "\u001b[1Be780b694: Preparing \n",
      "\u001b[1Bdc6eccf1: Preparing \n",
      "\u001b[1Be8cb8ead: Preparing \n",
      "\u001b[1B18b6f784: Preparing \n",
      "\u001b[1Bbe96fc82: Preparing \n",
      "\u001b[1B2b332e53: Preparing \n",
      "\u001b[1Bc6e1c93f: Preparing \n",
      "\u001b[1B8af0cced: Preparing \n",
      "\u001b[1Ba1e058e6: Preparing \n",
      "\u001b[1Ba7e2d141: Preparing \n",
      "\u001b[1B891256c7: Preparing \n",
      "\u001b[1B4275da12: Preparing \n",
      "\u001b[1B8601ef26: Preparing \n",
      "\u001b[1B03245374: Preparing \n",
      "\u001b[1Be3aaa392: Preparing \n",
      "\u001b[1B09ca2db2: Preparing \n",
      "\u001b[1B3589d5b4: Preparing \n",
      "\u001b[1B3141886c: Preparing \n",
      "\u001b[1Bab783b62: Preparing \n",
      "\u001b[18B8cb8ead: Waiting g \n",
      "\u001b[1Bdadd4466: Preparing \n",
      "\u001b[1B74e50f52: Preparing \n",
      "\u001b[1B9e8d85dd: Preparing \n",
      "\u001b[1B74ebe255: Preparing \n",
      "\u001b[1B9683cb41: Preparing \n",
      "\u001b[1B42719515: Preparing \n",
      "\u001b[1B103e78c9: Preparing \n",
      "\u001b[1Be637fbff: Preparing \n",
      "\u001b[32B0d12e8d: Pushed lready exists 2kB\u001b[24A\u001b[2K\u001b[18A\u001b[2K\u001b[11A\u001b[2K\u001b[5A\u001b[2K\u001b[32A\u001b[2Klatest: digest: sha256:ad5a5063c1bdabd5e2c650d87889495b961faaa8ccf70f6f764955a0883fc7bb size: 7045\n"
     ]
    }
   ],
   "source": [
    "! ./build_and_push.sh hf-transformers-sm latest Dockerfile"
   ]
  },
  {
   "cell_type": "markdown",
   "metadata": {},
   "source": [
    "# Training Language Model"
   ]
  },
  {
   "cell_type": "code",
   "execution_count": 8,
   "metadata": {},
   "outputs": [],
   "source": [
    "# Define IAM role\n",
    "import boto3\n",
    "import re\n",
    "\n",
    "import os\n",
    "import numpy as np\n",
    "import pandas as pd\n",
    "from sagemaker import get_execution_role\n",
    "\n",
    "role = get_execution_role()"
   ]
  },
  {
   "cell_type": "code",
   "execution_count": 20,
   "metadata": {},
   "outputs": [],
   "source": [
    "import sagemaker\n",
    "from time import gmtime, strftime\n",
    "\n",
    "# sess = sagemaker.LocalSession() # can use LocalSession() to run container locally\n",
    "sess = sagemaker.Session()\n",
    "\n",
    "bucket = sess.default_bucket()\n",
    "region = \"us-east-2\"\n",
    "account = sess.boto_session.client('sts').get_caller_identity()['Account']\n",
    "prefix_input = 'detectron2-input'\n",
    "prefix_output = 'detectron2-ouput'"
   ]
  },
  {
   "cell_type": "code",
   "execution_count": 16,
   "metadata": {},
   "outputs": [],
   "source": [
    "container = \"hf-transformers-sm\" # your container name\n",
    "tag = \"latest\"\n",
    "image = '{}.dkr.ecr.{}.amazonaws.com/{}:{}'.format(account, region, container, tag)"
   ]
  },
  {
   "cell_type": "code",
   "execution_count": 17,
   "metadata": {},
   "outputs": [],
   "source": [
    "# placeholder\n",
    "metric_definitions=[]\n"
   ]
  },
  {
   "cell_type": "code",
   "execution_count": 23,
   "metadata": {},
   "outputs": [],
   "source": [
    "hyperparameters = {\n",
    "    \"nlp-problem\":\"language-modeling\",\n",
    "    \"dataset\" : \"wiki\",\n",
    "    #### Algo hyperparameters\n",
    "    \"model_type\" : \"gpt2\",\n",
    "    \"model_name_or_path\" : \"gpt2\",\n",
    "    \"do_train\" : \"true\", \n",
    "    \"do_eval\" : \"true\"\n",
    "}"
   ]
  },
  {
   "cell_type": "code",
   "execution_count": 24,
   "metadata": {},
   "outputs": [],
   "source": [
    "lng_est = sagemaker.estimator.Estimator(image,\n",
    "                                   role=role,\n",
    "                                   train_instance_count=4, \n",
    "                                   train_instance_type='ml.p3.16xlarge',\n",
    "#                                    train_instance_type=\"local_gpu\", # use local_gpu for quick troubleshooting\n",
    "#                                    train_volume_size=100,\n",
    "                                   output_path=\"s3://{}/{}\".format(sess.default_bucket(), prefix_output),\n",
    "                                   metric_definitions = metric_definitions,\n",
    "                                   hyperparameters = hyperparameters, \n",
    "                                   sagemaker_session=sess)\n",
    "\n",
    "lng_est.fit({\"train\":\"s3://vadimd-nlp-datasets/wikitext-2-raw/wiki.train.raw\", \n",
    "       \"test\":\"s3://vadimd-nlp-datasets/wikitext-2-raw/wiki.test.raw\"}, \n",
    "      wait=False\n",
    "          ) "
   ]
  },
  {
   "cell_type": "markdown",
   "metadata": {},
   "source": [
    "# Train for GLUE benchmarks (WIP)"
   ]
  },
  {
   "cell_type": "code",
   "execution_count": null,
   "metadata": {},
   "outputs": [],
   "source": [
    "glue_hp = {\n",
    "    \"nlp-problem\" : \"text-classification\",\n",
    "    #### Algo hyperparameters\n",
    "    \"task_name\" : \"MRPC\", \n",
    "    \"model_type\" : \"bert\",\n",
    "    \"model_name_or_path\" : \"bert-base-cased\", # provide only model name\n",
    "    \"max_seq_length\" : 128,\n",
    "    \"per_gpu_train_batch_size\" : 32,\n",
    "    \"learning_rate\" : 2e-5,\n",
    "    \"num_train_epochs\" : 3.0\n",
    "}"
   ]
  },
  {
   "cell_type": "code",
   "execution_count": null,
   "metadata": {},
   "outputs": [],
   "source": [
    "cls_est = sagemaker.estimator.Estimator(image,\n",
    "                                   role=role,\n",
    "                                   train_instance_count=2, \n",
    "                                   train_instance_type='ml.p3.2xlarge',\n",
    "#                                   train_instance_type=\"local_gpu\", # use local_gpu for quick troubleshooting\n",
    "#                                   train_volume_size=100,\n",
    "                                   output_path=\"s3://{}/{}\".format(sess.default_bucket(), prefix_output),\n",
    "                                   metric_definitions = metric_definitions,\n",
    "                                   hyperparameters = hyperparameters, \n",
    "                                   sagemaker_session=sess)\n",
    "\n",
    "# TODO: prepare data channels\n",
    "cls_est.fit({\"train\":\"TBD\", \n",
    "       \"test\":\"TBD\"}, \n",
    "       wait=False) "
   ]
  }
 ],
 "metadata": {
  "kernelspec": {
   "display_name": "conda_pytorch_p36",
   "language": "python",
   "name": "conda_pytorch_p36"
  },
  "language_info": {
   "codemirror_mode": {
    "name": "ipython",
    "version": 3
   },
   "file_extension": ".py",
   "mimetype": "text/x-python",
   "name": "python",
   "nbconvert_exporter": "python",
   "pygments_lexer": "ipython3",
   "version": "3.6.10"
  }
 },
 "nbformat": 4,
 "nbformat_minor": 4
}
